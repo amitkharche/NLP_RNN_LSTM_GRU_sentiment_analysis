{
 "cells": [
  {
   "cell_type": "markdown",
   "id": "d60ea01e",
   "metadata": {},
   "source": [
    "# NLP Sentiment Analysis on IMDB Movie Reviews\n",
    "### Using RNN | LSTM | GRU | BiLSTM | BiGRU | Best LSTM (KerasTuner)"
   ]
  },
  {
   "cell_type": "code",
   "execution_count": null,
   "id": "7cec167f",
   "metadata": {},
   "outputs": [],
   "source": [
    "import numpy as np\n",
    "import pandas as pd\n",
    "import matplotlib.pyplot as plt\n",
    "import seaborn as sns\n",
    "from sklearn.metrics import classification_report, confusion_matrix, ConfusionMatrixDisplay\n",
    "from tensorflow.keras.datasets import imdb\n",
    "from tensorflow.keras.preprocessing.sequence import pad_sequences"
   ]
  },
  {
   "cell_type": "markdown",
   "id": "880c4d54",
   "metadata": {},
   "source": [
    "## Load & Preprocess IMDB Dataset"
   ]
  },
  {
   "cell_type": "code",
   "execution_count": null,
   "id": "4a513515",
   "metadata": {},
   "outputs": [],
   "source": [
    "# Load IMDB dataset\n",
    "max_features = 10000\n",
    "maxlen = 500\n",
    "\n",
    "(x_train, y_train), (x_test, y_test) = imdb.load_data(num_words=max_features)\n",
    "x_train = pad_sequences(x_train, maxlen=maxlen)\n",
    "x_test = pad_sequences(x_test, maxlen=maxlen)\n",
    "\n",
    "print(f\"Train shape: {x_train.shape}, Test shape: {x_test.shape}\")"
   ]
  },
  {
   "cell_type": "markdown",
   "id": "833a8210",
   "metadata": {},
   "source": [
    "### Simple RNN"
   ]
  },
  {
   "cell_type": "code",
   "execution_count": null,
   "id": "0c549537",
   "metadata": {},
   "outputs": [],
   "source": [
    "from tensorflow.keras.models import Sequential\n",
    "from tensorflow.keras.layers import Embedding, SimpleRNN, Dense\n",
    "\n",
    "model_rnn = Sequential([\n",
    "    Embedding(max_features, 32),\n",
    "    SimpleRNN(32),\n",
    "    Dense(1, activation='sigmoid')\n",
    "])\n",
    "model_rnn.compile(optimizer='adam', loss='binary_crossentropy', metrics=['accuracy'])\n",
    "model_rnn.fit(x_train, y_train, epochs=3, batch_size=64, validation_split=0.2)"
   ]
  },
  {
   "cell_type": "markdown",
   "id": "93828122",
   "metadata": {},
   "source": [
    "### LSTM"
   ]
  },
  {
   "cell_type": "code",
   "execution_count": null,
   "id": "d4a7d70b",
   "metadata": {},
   "outputs": [],
   "source": [
    "from tensorflow.keras.layers import LSTM\n",
    "\n",
    "model_lstm = Sequential([\n",
    "    Embedding(max_features, 64),\n",
    "    LSTM(64),\n",
    "    Dense(1, activation='sigmoid')\n",
    "])\n",
    "model_lstm.compile(optimizer='adam', loss='binary_crossentropy', metrics=['accuracy'])\n",
    "model_lstm.fit(x_train, y_train, epochs=3, batch_size=64, validation_split=0.2)"
   ]
  },
  {
   "cell_type": "markdown",
   "id": "fd7d2a11",
   "metadata": {},
   "source": [
    "### GRU"
   ]
  },
  {
   "cell_type": "code",
   "execution_count": null,
   "id": "2d0e505f",
   "metadata": {},
   "outputs": [],
   "source": [
    "from tensorflow.keras.layers import GRU\n",
    "\n",
    "model_gru = Sequential([\n",
    "    Embedding(max_features, 64),\n",
    "    GRU(64),\n",
    "    Dense(1, activation='sigmoid')\n",
    "])\n",
    "model_gru.compile(optimizer='adam', loss='binary_crossentropy', metrics=['accuracy'])\n",
    "model_gru.fit(x_train, y_train, epochs=3, batch_size=64, validation_split=0.2)\n"
   ]
  },
  {
   "cell_type": "markdown",
   "id": "cfbf25d5",
   "metadata": {},
   "source": [
    "### Bidirectional LSTM with GloVe"
   ]
  },
  {
   "cell_type": "code",
   "execution_count": null,
   "id": "c7c13f6a",
   "metadata": {},
   "outputs": [],
   "source": [
    "from tensorflow.keras.layers import Bidirectional\n",
    "\n",
    "# Load GloVe embeddings\n",
    "embedding_dim = 100\n",
    "embeddings_index = {}\n",
    "glove_path = \"data/glove.6B.100d.txt\"\n",
    "with open(glove_path, encoding='utf-8') as f:\n",
    "    for line in f:\n",
    "        values = line.split()\n",
    "        word = values[0]\n",
    "        coefs = np.asarray(values[1:], dtype='float32')\n",
    "        embeddings_index[word] = coefs\n",
    "\n",
    "# Prepare embedding matrix\n",
    "word_index = imdb.get_word_index()\n",
    "embedding_matrix = np.zeros((max_features, embedding_dim))\n",
    "for word, i in word_index.items():\n",
    "    if i < max_features:\n",
    "        embedding_vector = embeddings_index.get(word)\n",
    "        if embedding_vector is not None:\n",
    "            embedding_matrix[i] = embedding_vector\n",
    "\n",
    "model_bilstm = Sequential([\n",
    "    Embedding(input_dim=max_features,\n",
    "              output_dim=embedding_dim,\n",
    "              weights=[embedding_matrix],\n",
    "              input_length=maxlen,\n",
    "              trainable=False),\n",
    "    Bidirectional(LSTM(64)),\n",
    "    Dense(1, activation='sigmoid')\n",
    "])\n",
    "model_bilstm.compile(optimizer='adam', loss='binary_crossentropy', metrics=['accuracy'])\n",
    "model_bilstm.fit(x_train, y_train, epochs=3, batch_size=64, validation_split=0.2)"
   ]
  },
  {
   "cell_type": "markdown",
   "id": "cd1a869d",
   "metadata": {},
   "source": [
    "### Bidirectional GRU with GloVe"
   ]
  },
  {
   "cell_type": "code",
   "execution_count": null,
   "id": "379e5658",
   "metadata": {},
   "outputs": [],
   "source": [
    "model_bigru = Sequential([\n",
    "    Embedding(input_dim=max_features,\n",
    "              output_dim=embedding_dim,\n",
    "              weights=[embedding_matrix],\n",
    "              input_length=maxlen,\n",
    "              trainable=False),\n",
    "    Bidirectional(GRU(64)),\n",
    "    Dense(1, activation='sigmoid')\n",
    "])\n",
    "model_bigru.compile(optimizer='adam', loss='binary_crossentropy', metrics=['accuracy'])\n",
    "model_bigru.fit(x_train, y_train, epochs=3, batch_size=64, validation_split=0.2)"
   ]
  },
  {
   "cell_type": "markdown",
   "id": "069a661d",
   "metadata": {},
   "source": [
    "### Best LSTM using KerasTuner"
   ]
  },
  {
   "cell_type": "code",
   "execution_count": null,
   "id": "abd2a9e0",
   "metadata": {},
   "outputs": [],
   "source": [
    "import keras_tuner as kt\n",
    "\n",
    "def model_builder(hp):\n",
    "    model = Sequential()\n",
    "    model.add(Embedding(max_features, hp.Int('embedding_output', min_value=32, max_value=128, step=32)))\n",
    "    model.add(LSTM(hp.Int('lstm_units', min_value=32, max_value=128, step=32)))\n",
    "    model.add(Dense(1, activation='sigmoid'))\n",
    "    model.compile(optimizer='adam', loss='binary_crossentropy', metrics=['accuracy'])\n",
    "    return model\n",
    "\n",
    "tuner = kt.Hyperband(model_builder,\n",
    "                     objective='val_accuracy',\n",
    "                     max_epochs=5,\n",
    "                     factor=3,\n",
    "                     directory='kerastuner_dir',\n",
    "                     project_name='lstm_tuning')\n",
    "\n",
    "tuner.search(x_train, y_train, epochs=5, validation_split=0.2)\n",
    "best_hps = tuner.get_best_hyperparameters(num_trials=1)[0]\n",
    "print(f\"Best embedding output: {best_hps.get('embedding_output')}\")\n",
    "print(f\"Best LSTM units: {best_hps.get('lstm_units')}\")\n",
    "\n",
    "# Build and train the best model\n",
    "model_best_lstm = tuner.hypermodel.build(best_hps)\n",
    "model_best_lstm.fit(x_train, y_train, epochs=2, validation_split=0.2)"
   ]
  },
  {
   "cell_type": "markdown",
   "id": "236612bd",
   "metadata": {},
   "source": [
    "## Model Evaluation & Visualization"
   ]
  },
  {
   "cell_type": "code",
   "execution_count": null,
   "id": "83201d3b",
   "metadata": {},
   "outputs": [],
   "source": [
    "# Example evaluation placeholder\n",
    "# Replace `model` with your trained model\n",
    "\n",
    "# y_pred = (model.predict(x_test) > 0.5).astype(\"int32\")\n",
    "# print(classification_report(y_test, y_pred))\n",
    "\n",
    "# cm = confusion_matrix(y_test, y_pred)\n",
    "# disp = ConfusionMatrixDisplay(confusion_matrix=cm, display_labels=[\"Negative\", \"Positive\"])\n",
    "# disp.plot(cmap='Blues')\n",
    "# plt.title(\"Confusion Matrix\")\n",
    "# plt.show()\n"
   ]
  },
  {
   "cell_type": "markdown",
   "id": "f7a43603",
   "metadata": {},
   "source": [
    "## Future Enhancements\n",
    "- Integrate BERT via Hugging Face\n",
    "- Add explainability with SHAP/LIME\n",
    "- Deploy with Streamlit & Docker"
   ]
  },
  {
   "cell_type": "code",
   "execution_count": null,
   "id": "ab7f5b03",
   "metadata": {},
   "outputs": [],
   "source": []
  }
 ],
 "metadata": {
  "kernelspec": {
   "display_name": "Python 3 (ipykernel)",
   "language": "python",
   "name": "python3"
  },
  "language_info": {
   "codemirror_mode": {
    "name": "ipython",
    "version": 3
   },
   "file_extension": ".py",
   "mimetype": "text/x-python",
   "name": "python",
   "nbconvert_exporter": "python",
   "pygments_lexer": "ipython3",
   "version": "3.11.4"
  }
 },
 "nbformat": 4,
 "nbformat_minor": 5
}
